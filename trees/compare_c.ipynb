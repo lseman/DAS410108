{
 "cells": [
  {
   "cell_type": "code",
   "execution_count": 42,
   "id": "c063a7ce",
   "metadata": {},
   "outputs": [
    {
     "name": "stdout",
     "output_type": "stream",
     "text": [
      "=== REGRESSION ===\n",
      "Regression MSE: 1022.4906\n",
      "Time taken: 0.00 seconds\n",
      "Sklearn Regression MSE: 1029.2145\n",
      "Time taken (sklearn): 0.00 seconds\n"
     ]
    }
   ],
   "source": [
    "import numpy as np\n",
    "import fast_tree\n",
    "from sklearn.datasets import make_classification, make_regression\n",
    "from sklearn.model_selection import train_test_split\n",
    "\n",
    "# Regression example\n",
    "print(\"=== REGRESSION ===\")\n",
    "X_reg, y_reg = make_regression(n_samples=1000, n_features=5, random_state=42)\n",
    "X_train, X_test, y_train, y_test = train_test_split(X_reg, y_reg, test_size=0.3)\n",
    "\n",
    "import time\n",
    "start = time.time()\n",
    "tree_reg = fast_tree.FastDecisionTree(criterion=\"mse\", max_depth=8)\n",
    "tree_reg.fit(X_train, y_train)\n",
    "pred_reg = tree_reg.predict(X_test)\n",
    "mse = np.mean((y_test - pred_reg)**2)\n",
    "print(f\"Regression MSE: {mse:.4f}\")\n",
    "print(f\"Time taken: {time.time() - start:.2f} seconds\")\n",
    "\n",
    "# compare with sklearn\n",
    "from sklearn.tree import DecisionTreeRegressor\n",
    "start = time.time()\n",
    "sk_tree_reg = DecisionTreeRegressor(criterion=\"squared_error\", max_depth=8)\n",
    "sk_tree_reg.fit(X_train, y_train)\n",
    "sk_pred_reg = sk_tree_reg.predict(X_test)\n",
    "sk_mse = np.mean((y_test - sk_pred_reg)**2)\n",
    "print(f\"Sklearn Regression MSE: {sk_mse:.4f}\")\n",
    "print(f\"Time taken (sklearn): {time.time() - start:.2f} seconds\")"
   ]
  }
 ],
 "metadata": {
  "kernelspec": {
   "display_name": ".venv",
   "language": "python",
   "name": "python3"
  },
  "language_info": {
   "codemirror_mode": {
    "name": "ipython",
    "version": 3
   },
   "file_extension": ".py",
   "mimetype": "text/x-python",
   "name": "python",
   "nbconvert_exporter": "python",
   "pygments_lexer": "ipython3",
   "version": "3.13.7"
  }
 },
 "nbformat": 4,
 "nbformat_minor": 5
}
